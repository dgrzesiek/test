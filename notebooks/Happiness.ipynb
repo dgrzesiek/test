{
 "cells": [
  {
   "cell_type": "markdown",
   "metadata": {},
   "source": [
    "# 01_Happiness\n",
    "\n",
    "This lab is a remix of an exercise from chapter 1 of the book. \n",
    "\n",
    "\n",
    "## Data\n",
    "We are going to be investigating the [2017 edition Better Life Index](https://stats.oecd.org/index.aspx?DataSetCode=BLI#). You can download a csv file of that data.\n",
    "\n",
    "Just as in chapter 1:\n",
    "\n",
    "* We would like to predict Life Satisfaction of a country (the total -- not solely men or women).\n",
    "\n",
    "* We are going to train a linear regression model \n",
    "\n",
    "Recall that the book created a table that looked like:\n",
    "\n",
    "Country | GDP per capita | Life satisfaction\n",
    " :---: | :---: | :---: |\n",
    " Hungary | 12240 | 4.9\n",
    " Korea | 27195 | 5.8\n",
    " France 37675 | 6.5\n",
    " \n",
    " and we tried to predict Life satisfaction using the attribute GDP per capita.\n",
    " \n",
    " In this exercise we are not going to use GDP so no need to combine dataframes. Instead, we are going to use the following attributes that are in the Better Life Index data:\n",
    " \n",
    "\n",
    "* Student skills\n",
    "* Educational attainment\n",
    "* Time devoted to leisure and personal care\n",
    "* Homicide rate\n",
    "* Household net financial wealth\n",
    "* Life expectancy\n",
    "* Personal earnings\n",
    "* Years in education'\n",
    " \n",
    "### a. Create a Pandas DataFrame `X` whose index is the country name and the columns are those listed above in the order given\n",
    "### b. Create a Pandas DataFrame  `Y` whose index is the country name and the column is Life Satisfaction\n",
    "### c. Create a linear regression model of this data.\n",
    "\n",
    "After you create a model of the training data, run the following code to check your answer\n"
   ]
  },
  {
   "cell_type": "code",
   "execution_count": null,
   "metadata": {},
   "outputs": [],
   "source": [
    "coef = model.coef_\n",
    "import sklearn.metrics\n",
    "standard = [-5.99063696e-03,  1.39616576e-02,  2.63488147e-03,\n",
    "         6.44905360e-02, -2.49804499e-06,  4.64416294e-02,\n",
    "         4.40217470e-05,  1.34863669e-01]\n",
    "sklearn.metrics.mean_squared_error(standard, coef[0])"
   ]
  },
  {
   "cell_type": "markdown",
   "metadata": {},
   "source": [
    "You should get some extremely small number. I got\n",
    "\n",
    "    3.869791782447491e-21"
   ]
  },
  {
   "cell_type": "markdown",
   "metadata": {},
   "source": [
    "### What is the predicted value for Life Satisfaction for the United States?\n",
    "### What is the actual value for Life Satisfaction for the United States?\n",
    "### "
   ]
  },
  {
   "cell_type": "code",
   "execution_count": null,
   "metadata": {},
   "outputs": [],
   "source": []
  }
 ],
 "metadata": {
  "kernelspec": {
   "display_name": "Python 3",
   "language": "python",
   "name": "python3"
  },
  "language_info": {
   "codemirror_mode": {
    "name": "ipython",
    "version": 3
   },
   "file_extension": ".py",
   "mimetype": "text/x-python",
   "name": "python",
   "nbconvert_exporter": "python",
   "pygments_lexer": "ipython3",
   "version": "3.6.5"
  }
 },
 "nbformat": 4,
 "nbformat_minor": 2
}
